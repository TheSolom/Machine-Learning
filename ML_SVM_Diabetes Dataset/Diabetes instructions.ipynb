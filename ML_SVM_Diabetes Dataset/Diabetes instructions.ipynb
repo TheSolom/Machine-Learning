{
 "cells": [
  {
   "attachments": {},
   "cell_type": "markdown",
   "metadata": {},
   "source": [
    "# Introduction  \n",
    "* This dataset is a dataset for patients who might or might not have diabetes, you're task is to predict the **outcome**, whether the patient have diabetes or not.\n",
    "\n",
    "* You are **ENCOURAGED** to copy code from the internet, use Github Co-pilot, ask chat GPT, ask me, ask other students. but don't copy the whole project, **I will know**, and you will get zero. and the person who gave it to you. As long as you prove to me that you put in the effort, I will give you full mark. \n",
    "\n",
    "* The outlines here are **NOT Questions**, they are designed to guide you, but you are free to remove them and deal with the data as you see. \n",
    "\n",
    "* The results of the model are not important, as long as show me the predictions on the test set, that you understand the code you ***supposedly*** wrote, and justify the steps you have taken, you will get full mark.\n",
    "\n",
    "* Try to solve the bonus questions, to get a bonus."
   ]
  },
  {
   "attachments": {},
   "cell_type": "markdown",
   "metadata": {},
   "source": [
    "# The Training Phase"
   ]
  },
  {
   "attachments": {},
   "cell_type": "markdown",
   "metadata": {},
   "source": [
    "#### Import pandas and all the necessary libraries."
   ]
  },
  {
   "cell_type": "code",
   "execution_count": 1,
   "metadata": {},
   "outputs": [],
   "source": [
    "import pandas as pd\n",
    "import numpy as np\n",
    "import matplotlib.pyplot as plt\n",
    "from sklearn.model_selection import train_test_split\n",
    "from sklearn.model_selection import GridSearchCV\n",
    "from sklearn.metrics import classification_report\n",
    "from sklearn.metrics import confusion_matrix\n",
    "from sklearn.preprocessing import KBinsDiscretizer \n",
    "from sklearn.preprocessing import StandardScaler\n",
    "from sklearn.svm import SVC"
   ]
  },
  {
   "attachments": {},
   "cell_type": "markdown",
   "metadata": {},
   "source": [
    "#### Load the dataset, split it into 70% training set and 30% test set.\n",
    "save the training set in a file called training.csv, and the test set in a file called test.csv. don't forget to shuffle the dataframe before splitting.\n",
    "**Hint:** don't `use train_test_split()`, instead, use pandas `iloc[]` function."
   ]
  },
  {
   "cell_type": "code",
   "execution_count": 2,
   "metadata": {},
   "outputs": [],
   "source": [
    "data = pd.read_csv('./Diabetes dataset.csv')\n",
    "X = data.iloc[:, :-1]\n",
    "y = data.iloc[:, -1]\n",
    "\n",
    "X_train, X_test, y_train, y_test = train_test_split(X, y, test_size=0.3, random_state=1, shuffle= True)\n",
    "\n",
    "train = pd.concat([X_train, y_train], axis=1)\n",
    "test = pd.concat([X_test, y_test], axis=1)\n",
    "\n",
    "train.to_csv('training.csv', index=False)\n",
    "test.to_csv('test.csv', index=False)"
   ]
  },
  {
   "attachments": {},
   "cell_type": "markdown",
   "metadata": {},
   "source": [
    "#### Load the file training.csv that you saved in a new data frame."
   ]
  },
  {
   "cell_type": "code",
   "execution_count": 3,
   "metadata": {},
   "outputs": [],
   "source": [
    "train = pd.read_csv('./training.csv')"
   ]
  },
  {
   "attachments": {},
   "cell_type": "markdown",
   "metadata": {},
   "source": [
    "#### View information about the dataset."
   ]
  },
  {
   "cell_type": "code",
   "execution_count": 4,
   "metadata": {},
   "outputs": [
    {
     "name": "stdout",
     "output_type": "stream",
     "text": [
      "<class 'pandas.core.frame.DataFrame'>\n",
      "RangeIndex: 537 entries, 0 to 536\n",
      "Data columns (total 9 columns):\n",
      " #   Column                    Non-Null Count  Dtype  \n",
      "---  ------                    --------------  -----  \n",
      " 0   Pregnancies               537 non-null    int64  \n",
      " 1   Glucose                   537 non-null    int64  \n",
      " 2   BloodPressure             537 non-null    int64  \n",
      " 3   SkinThickness             537 non-null    int64  \n",
      " 4   Insulin                   537 non-null    int64  \n",
      " 5   BMI                       537 non-null    float64\n",
      " 6   DiabetesPedigreeFunction  537 non-null    float64\n",
      " 7   Age                       537 non-null    int64  \n",
      " 8   Outcome                   537 non-null    int64  \n",
      "dtypes: float64(2), int64(7)\n",
      "memory usage: 37.9 KB\n"
     ]
    },
    {
     "data": {
      "text/html": [
       "<div>\n",
       "<style scoped>\n",
       "    .dataframe tbody tr th:only-of-type {\n",
       "        vertical-align: middle;\n",
       "    }\n",
       "\n",
       "    .dataframe tbody tr th {\n",
       "        vertical-align: top;\n",
       "    }\n",
       "\n",
       "    .dataframe thead th {\n",
       "        text-align: right;\n",
       "    }\n",
       "</style>\n",
       "<table border=\"1\" class=\"dataframe\">\n",
       "  <thead>\n",
       "    <tr style=\"text-align: right;\">\n",
       "      <th></th>\n",
       "      <th>Pregnancies</th>\n",
       "      <th>Glucose</th>\n",
       "      <th>BloodPressure</th>\n",
       "      <th>SkinThickness</th>\n",
       "      <th>Insulin</th>\n",
       "      <th>BMI</th>\n",
       "      <th>DiabetesPedigreeFunction</th>\n",
       "      <th>Age</th>\n",
       "      <th>Outcome</th>\n",
       "    </tr>\n",
       "  </thead>\n",
       "  <tbody>\n",
       "    <tr>\n",
       "      <th>count</th>\n",
       "      <td>537.000000</td>\n",
       "      <td>537.000000</td>\n",
       "      <td>537.000000</td>\n",
       "      <td>537.000000</td>\n",
       "      <td>537.000000</td>\n",
       "      <td>537.000000</td>\n",
       "      <td>537.000000</td>\n",
       "      <td>537.000000</td>\n",
       "      <td>537.000000</td>\n",
       "    </tr>\n",
       "    <tr>\n",
       "      <th>mean</th>\n",
       "      <td>3.757914</td>\n",
       "      <td>121.001862</td>\n",
       "      <td>68.951583</td>\n",
       "      <td>19.541899</td>\n",
       "      <td>77.500931</td>\n",
       "      <td>31.838920</td>\n",
       "      <td>0.468156</td>\n",
       "      <td>33.312849</td>\n",
       "      <td>0.340782</td>\n",
       "    </tr>\n",
       "    <tr>\n",
       "      <th>std</th>\n",
       "      <td>3.355361</td>\n",
       "      <td>31.244492</td>\n",
       "      <td>20.115002</td>\n",
       "      <td>15.958044</td>\n",
       "      <td>112.715401</td>\n",
       "      <td>7.675022</td>\n",
       "      <td>0.333139</td>\n",
       "      <td>11.967574</td>\n",
       "      <td>0.474414</td>\n",
       "    </tr>\n",
       "    <tr>\n",
       "      <th>min</th>\n",
       "      <td>0.000000</td>\n",
       "      <td>0.000000</td>\n",
       "      <td>0.000000</td>\n",
       "      <td>0.000000</td>\n",
       "      <td>0.000000</td>\n",
       "      <td>0.000000</td>\n",
       "      <td>0.085000</td>\n",
       "      <td>21.000000</td>\n",
       "      <td>0.000000</td>\n",
       "    </tr>\n",
       "    <tr>\n",
       "      <th>25%</th>\n",
       "      <td>1.000000</td>\n",
       "      <td>100.000000</td>\n",
       "      <td>62.000000</td>\n",
       "      <td>0.000000</td>\n",
       "      <td>0.000000</td>\n",
       "      <td>27.000000</td>\n",
       "      <td>0.240000</td>\n",
       "      <td>24.000000</td>\n",
       "      <td>0.000000</td>\n",
       "    </tr>\n",
       "    <tr>\n",
       "      <th>50%</th>\n",
       "      <td>3.000000</td>\n",
       "      <td>117.000000</td>\n",
       "      <td>72.000000</td>\n",
       "      <td>21.000000</td>\n",
       "      <td>0.000000</td>\n",
       "      <td>32.000000</td>\n",
       "      <td>0.355000</td>\n",
       "      <td>29.000000</td>\n",
       "      <td>0.000000</td>\n",
       "    </tr>\n",
       "    <tr>\n",
       "      <th>75%</th>\n",
       "      <td>6.000000</td>\n",
       "      <td>140.000000</td>\n",
       "      <td>80.000000</td>\n",
       "      <td>32.000000</td>\n",
       "      <td>126.000000</td>\n",
       "      <td>36.400000</td>\n",
       "      <td>0.613000</td>\n",
       "      <td>41.000000</td>\n",
       "      <td>1.000000</td>\n",
       "    </tr>\n",
       "    <tr>\n",
       "      <th>max</th>\n",
       "      <td>15.000000</td>\n",
       "      <td>198.000000</td>\n",
       "      <td>122.000000</td>\n",
       "      <td>99.000000</td>\n",
       "      <td>744.000000</td>\n",
       "      <td>67.100000</td>\n",
       "      <td>2.329000</td>\n",
       "      <td>72.000000</td>\n",
       "      <td>1.000000</td>\n",
       "    </tr>\n",
       "  </tbody>\n",
       "</table>\n",
       "</div>"
      ],
      "text/plain": [
       "       Pregnancies     Glucose  BloodPressure  SkinThickness     Insulin  \\\n",
       "count   537.000000  537.000000     537.000000     537.000000  537.000000   \n",
       "mean      3.757914  121.001862      68.951583      19.541899   77.500931   \n",
       "std       3.355361   31.244492      20.115002      15.958044  112.715401   \n",
       "min       0.000000    0.000000       0.000000       0.000000    0.000000   \n",
       "25%       1.000000  100.000000      62.000000       0.000000    0.000000   \n",
       "50%       3.000000  117.000000      72.000000      21.000000    0.000000   \n",
       "75%       6.000000  140.000000      80.000000      32.000000  126.000000   \n",
       "max      15.000000  198.000000     122.000000      99.000000  744.000000   \n",
       "\n",
       "              BMI  DiabetesPedigreeFunction         Age     Outcome  \n",
       "count  537.000000                537.000000  537.000000  537.000000  \n",
       "mean    31.838920                  0.468156   33.312849    0.340782  \n",
       "std      7.675022                  0.333139   11.967574    0.474414  \n",
       "min      0.000000                  0.085000   21.000000    0.000000  \n",
       "25%     27.000000                  0.240000   24.000000    0.000000  \n",
       "50%     32.000000                  0.355000   29.000000    0.000000  \n",
       "75%     36.400000                  0.613000   41.000000    1.000000  \n",
       "max     67.100000                  2.329000   72.000000    1.000000  "
      ]
     },
     "execution_count": 4,
     "metadata": {},
     "output_type": "execute_result"
    }
   ],
   "source": [
    "train.info()\n",
    "train.describe()"
   ]
  },
  {
   "attachments": {},
   "cell_type": "markdown",
   "metadata": {},
   "source": [
    "#### Clean the dataset.\n",
    "drop the useless columns, deal with the null values.   \n",
    "will you drop the rows, or use pandas mean(), or use sklearn simple Imputer?"
   ]
  },
  {
   "cell_type": "code",
   "execution_count": 5,
   "metadata": {},
   "outputs": [],
   "source": [
    "train.drop(columns=[\"Pregnancies\"], inplace=True, axis=1)"
   ]
  },
  {
   "attachments": {},
   "cell_type": "markdown",
   "metadata": {},
   "source": [
    "#### [BONUS++] Detect if there are any outliers in the dataset, if any, how will you deal with them ?"
   ]
  },
  {
   "cell_type": "code",
   "execution_count": 6,
   "metadata": {},
   "outputs": [
    {
     "name": "stderr",
     "output_type": "stream",
     "text": [
      "c:\\Users\\eslam\\AppData\\Local\\Programs\\Python\\Python311\\Lib\\site-packages\\pandas\\core\\arraylike.py:402: RuntimeWarning: divide by zero encountered in log\n",
      "  result = getattr(ufunc, method)(*inputs, **kwargs)\n"
     ]
    },
    {
     "data": {
      "text/plain": [
       "0      4.700480\n",
       "1      4.605170\n",
       "3      4.779123\n",
       "5      5.736572\n",
       "6      5.996452\n",
       "         ...   \n",
       "526    5.278115\n",
       "527    4.330733\n",
       "531    5.648974\n",
       "532    6.086775\n",
       "533    5.971262\n",
       "Name: Insulin, Length: 263, dtype: float64"
      ]
     },
     "execution_count": 6,
     "metadata": {},
     "output_type": "execute_result"
    }
   ],
   "source": [
    "train['Insulin'] = np.log(train['Insulin'])\n",
    "pd.set_option('mode.use_inf_as_na', True)\n",
    "train.dropna(subset=['Insulin'], inplace=True)\n",
    "\n",
    "train['Insulin']"
   ]
  },
  {
   "attachments": {},
   "cell_type": "markdown",
   "metadata": {},
   "source": [
    "#### Provide at least one drawing (histogram, pie chart, etc ..) that you see fit, about the dataset."
   ]
  },
  {
   "cell_type": "code",
   "execution_count": 7,
   "metadata": {},
   "outputs": [
    {
     "data": {
      "image/png": "[encoded data removed]",
      "text/plain": [
       "<Figure size 640x480 with 1 Axes>"
      ]
     },
     "metadata": {},
     "output_type": "display_data"
    }
   ],
   "source": [
    "plt.hist(train['Outcome'], bins=20)\n",
    "\n",
    "plt.show()"
   ]
  },
  {
   "attachments": {},
   "cell_type": "markdown",
   "metadata": {},
   "source": [
    "#### Draw a pie chart for the outcome label."
   ]
  },
  {
   "cell_type": "code",
   "execution_count": 8,
   "metadata": {},
   "outputs": [
    {
     "data": {
      "image/png": "[encoded data removed]",
      "text/plain": [
       "<Figure size 640x480 with 1 Axes>"
      ]
     },
     "metadata": {},
     "output_type": "display_data"
    }
   ],
   "source": [
    "one = train['Outcome'].value_counts().iloc[0]\n",
    "second = train['Outcome'].value_counts().iloc[1]\n",
    "\n",
    "plt.pie((one, second), labels = ['not', 'diabitic'])\n",
    "plt.show()"
   ]
  },
  {
   "attachments": {},
   "cell_type": "markdown",
   "metadata": {},
   "source": [
    "#### Draw a histogram to see the distribution of ages."
   ]
  },
  {
   "cell_type": "code",
   "execution_count": 9,
   "metadata": {},
   "outputs": [
    {
     "data": {
      "image/png": "[encoded data removed]",
      "text/plain": [
       "<Figure size 640x480 with 1 Axes>"
      ]
     },
     "metadata": {},
     "output_type": "display_data"
    }
   ],
   "source": [
    "plt.hist(train['Age'], bins=20)\n",
    "\n",
    "plt.show()"
   ]
  },
  {
   "attachments": {},
   "cell_type": "markdown",
   "metadata": {},
   "source": [
    "#### Use KBinsDiscretizer to convert age into 5 categories."
   ]
  },
  {
   "cell_type": "code",
   "execution_count": 10,
   "metadata": {},
   "outputs": [
    {
     "data": {
      "text/html": [
       "<div>\n",
       "<style scoped>\n",
       "    .dataframe tbody tr th:only-of-type {\n",
       "        vertical-align: middle;\n",
       "    }\n",
       "\n",
       "    .dataframe tbody tr th {\n",
       "        vertical-align: top;\n",
       "    }\n",
       "\n",
       "    .dataframe thead th {\n",
       "        text-align: right;\n",
       "    }\n",
       "</style>\n",
       "<table border=\"1\" class=\"dataframe\">\n",
       "  <thead>\n",
       "    <tr style=\"text-align: right;\">\n",
       "      <th></th>\n",
       "      <th>Glucose</th>\n",
       "      <th>BloodPressure</th>\n",
       "      <th>SkinThickness</th>\n",
       "      <th>Insulin</th>\n",
       "      <th>BMI</th>\n",
       "      <th>DiabetesPedigreeFunction</th>\n",
       "      <th>Age</th>\n",
       "      <th>Outcome</th>\n",
       "    </tr>\n",
       "  </thead>\n",
       "  <tbody>\n",
       "    <tr>\n",
       "      <th>0</th>\n",
       "      <td>136</td>\n",
       "      <td>70</td>\n",
       "      <td>32</td>\n",
       "      <td>4.700480</td>\n",
       "      <td>37.1</td>\n",
       "      <td>0.153</td>\n",
       "      <td>2.0</td>\n",
       "      <td>1</td>\n",
       "    </tr>\n",
       "    <tr>\n",
       "      <th>1</th>\n",
       "      <td>97</td>\n",
       "      <td>64</td>\n",
       "      <td>36</td>\n",
       "      <td>4.605170</td>\n",
       "      <td>36.8</td>\n",
       "      <td>0.600</td>\n",
       "      <td>0.0</td>\n",
       "      <td>0</td>\n",
       "    </tr>\n",
       "    <tr>\n",
       "      <th>3</th>\n",
       "      <td>106</td>\n",
       "      <td>64</td>\n",
       "      <td>35</td>\n",
       "      <td>4.779123</td>\n",
       "      <td>30.5</td>\n",
       "      <td>1.400</td>\n",
       "      <td>1.0</td>\n",
       "      <td>0</td>\n",
       "    </tr>\n",
       "    <tr>\n",
       "      <th>5</th>\n",
       "      <td>143</td>\n",
       "      <td>84</td>\n",
       "      <td>23</td>\n",
       "      <td>5.736572</td>\n",
       "      <td>42.4</td>\n",
       "      <td>1.076</td>\n",
       "      <td>0.0</td>\n",
       "      <td>0</td>\n",
       "    </tr>\n",
       "    <tr>\n",
       "      <th>6</th>\n",
       "      <td>124</td>\n",
       "      <td>70</td>\n",
       "      <td>33</td>\n",
       "      <td>5.996452</td>\n",
       "      <td>35.4</td>\n",
       "      <td>0.282</td>\n",
       "      <td>1.0</td>\n",
       "      <td>0</td>\n",
       "    </tr>\n",
       "    <tr>\n",
       "      <th>...</th>\n",
       "      <td>...</td>\n",
       "      <td>...</td>\n",
       "      <td>...</td>\n",
       "      <td>...</td>\n",
       "      <td>...</td>\n",
       "      <td>...</td>\n",
       "      <td>...</td>\n",
       "      <td>...</td>\n",
       "    </tr>\n",
       "    <tr>\n",
       "      <th>526</th>\n",
       "      <td>100</td>\n",
       "      <td>66</td>\n",
       "      <td>29</td>\n",
       "      <td>5.278115</td>\n",
       "      <td>32.0</td>\n",
       "      <td>0.444</td>\n",
       "      <td>2.0</td>\n",
       "      <td>0</td>\n",
       "    </tr>\n",
       "    <tr>\n",
       "      <th>527</th>\n",
       "      <td>84</td>\n",
       "      <td>50</td>\n",
       "      <td>23</td>\n",
       "      <td>4.330733</td>\n",
       "      <td>30.4</td>\n",
       "      <td>0.968</td>\n",
       "      <td>0.0</td>\n",
       "      <td>0</td>\n",
       "    </tr>\n",
       "    <tr>\n",
       "      <th>531</th>\n",
       "      <td>154</td>\n",
       "      <td>62</td>\n",
       "      <td>31</td>\n",
       "      <td>5.648974</td>\n",
       "      <td>32.8</td>\n",
       "      <td>0.237</td>\n",
       "      <td>0.0</td>\n",
       "      <td>0</td>\n",
       "    </tr>\n",
       "    <tr>\n",
       "      <th>532</th>\n",
       "      <td>157</td>\n",
       "      <td>74</td>\n",
       "      <td>35</td>\n",
       "      <td>6.086775</td>\n",
       "      <td>39.4</td>\n",
       "      <td>0.134</td>\n",
       "      <td>1.0</td>\n",
       "      <td>0</td>\n",
       "    </tr>\n",
       "    <tr>\n",
       "      <th>533</th>\n",
       "      <td>187</td>\n",
       "      <td>50</td>\n",
       "      <td>33</td>\n",
       "      <td>5.971262</td>\n",
       "      <td>33.9</td>\n",
       "      <td>0.826</td>\n",
       "      <td>1.0</td>\n",
       "      <td>1</td>\n",
       "    </tr>\n",
       "  </tbody>\n",
       "</table>\n",
       "<p>263 rows × 8 columns</p>\n",
       "</div>"
      ],
      "text/plain": [
       "     Glucose  BloodPressure  SkinThickness   Insulin   BMI  \\\n",
       "0        136             70             32  4.700480  37.1   \n",
       "1         97             64             36  4.605170  36.8   \n",
       "3        106             64             35  4.779123  30.5   \n",
       "5        143             84             23  5.736572  42.4   \n",
       "6        124             70             33  5.996452  35.4   \n",
       "..       ...            ...            ...       ...   ...   \n",
       "526      100             66             29  5.278115  32.0   \n",
       "527       84             50             23  4.330733  30.4   \n",
       "531      154             62             31  5.648974  32.8   \n",
       "532      157             74             35  6.086775  39.4   \n",
       "533      187             50             33  5.971262  33.9   \n",
       "\n",
       "     DiabetesPedigreeFunction  Age  Outcome  \n",
       "0                       0.153  2.0        1  \n",
       "1                       0.600  0.0        0  \n",
       "3                       1.400  1.0        0  \n",
       "5                       1.076  0.0        0  \n",
       "6                       0.282  1.0        0  \n",
       "..                        ...  ...      ...  \n",
       "526                     0.444  2.0        0  \n",
       "527                     0.968  0.0        0  \n",
       "531                     0.237  0.0        0  \n",
       "532                     0.134  1.0        0  \n",
       "533                     0.826  1.0        1  \n",
       "\n",
       "[263 rows x 8 columns]"
      ]
     },
     "execution_count": 10,
     "metadata": {},
     "output_type": "execute_result"
    }
   ],
   "source": [
    "KBin = KBinsDiscretizer(n_bins=5, encode='ordinal', strategy='uniform')\n",
    "age_scaled = KBin.fit_transform(train['Age'].values.reshape(-1, 1)) \n",
    "train['Age'] = age_scaled\n",
    "train"
   ]
  },
  {
   "attachments": {},
   "cell_type": "markdown",
   "metadata": {},
   "source": [
    "#### Use Standard Scaler to scale the data."
   ]
  },
  {
   "cell_type": "code",
   "execution_count": 11,
   "metadata": {},
   "outputs": [
    {
     "data": {
      "text/html": [
       "<div>\n",
       "<style scoped>\n",
       "    .dataframe tbody tr th:only-of-type {\n",
       "        vertical-align: middle;\n",
       "    }\n",
       "\n",
       "    .dataframe tbody tr th {\n",
       "        vertical-align: top;\n",
       "    }\n",
       "\n",
       "    .dataframe thead th {\n",
       "        text-align: right;\n",
       "    }\n",
       "</style>\n",
       "<table border=\"1\" class=\"dataframe\">\n",
       "  <thead>\n",
       "    <tr style=\"text-align: right;\">\n",
       "      <th></th>\n",
       "      <th>Glucose</th>\n",
       "      <th>BloodPressure</th>\n",
       "      <th>SkinThickness</th>\n",
       "      <th>Insulin</th>\n",
       "      <th>BMI</th>\n",
       "      <th>DiabetesPedigreeFunction</th>\n",
       "      <th>Age</th>\n",
       "      <th>Outcome</th>\n",
       "    </tr>\n",
       "  </thead>\n",
       "  <tbody>\n",
       "    <tr>\n",
       "      <th>0</th>\n",
       "      <td>0.424843</td>\n",
       "      <td>-0.040270</td>\n",
       "      <td>0.335944</td>\n",
       "      <td>-0.197156</td>\n",
       "      <td>0.586553</td>\n",
       "      <td>-1.053402</td>\n",
       "      <td>1.156811</td>\n",
       "      <td>1</td>\n",
       "    </tr>\n",
       "    <tr>\n",
       "      <th>1</th>\n",
       "      <td>-0.792708</td>\n",
       "      <td>-0.490945</td>\n",
       "      <td>0.732592</td>\n",
       "      <td>-0.336239</td>\n",
       "      <td>0.543494</td>\n",
       "      <td>0.185260</td>\n",
       "      <td>-0.632843</td>\n",
       "      <td>0</td>\n",
       "    </tr>\n",
       "    <tr>\n",
       "      <th>3</th>\n",
       "      <td>-0.511735</td>\n",
       "      <td>-0.490945</td>\n",
       "      <td>0.633430</td>\n",
       "      <td>-0.082395</td>\n",
       "      <td>-0.360729</td>\n",
       "      <td>2.402105</td>\n",
       "      <td>0.261984</td>\n",
       "      <td>0</td>\n",
       "    </tr>\n",
       "    <tr>\n",
       "      <th>5</th>\n",
       "      <td>0.643378</td>\n",
       "      <td>1.011308</td>\n",
       "      <td>-0.556513</td>\n",
       "      <td>1.314781</td>\n",
       "      <td>1.347248</td>\n",
       "      <td>1.504283</td>\n",
       "      <td>-0.632843</td>\n",
       "      <td>0</td>\n",
       "    </tr>\n",
       "    <tr>\n",
       "      <th>6</th>\n",
       "      <td>0.050212</td>\n",
       "      <td>-0.040270</td>\n",
       "      <td>0.435106</td>\n",
       "      <td>1.694015</td>\n",
       "      <td>0.342556</td>\n",
       "      <td>-0.695935</td>\n",
       "      <td>0.261984</td>\n",
       "      <td>0</td>\n",
       "    </tr>\n",
       "    <tr>\n",
       "      <th>...</th>\n",
       "      <td>...</td>\n",
       "      <td>...</td>\n",
       "      <td>...</td>\n",
       "      <td>...</td>\n",
       "      <td>...</td>\n",
       "      <td>...</td>\n",
       "      <td>...</td>\n",
       "      <td>...</td>\n",
       "    </tr>\n",
       "    <tr>\n",
       "      <th>526</th>\n",
       "      <td>-0.699050</td>\n",
       "      <td>-0.340720</td>\n",
       "      <td>0.038458</td>\n",
       "      <td>0.645768</td>\n",
       "      <td>-0.145438</td>\n",
       "      <td>-0.247024</td>\n",
       "      <td>1.156811</td>\n",
       "      <td>0</td>\n",
       "    </tr>\n",
       "    <tr>\n",
       "      <th>527</th>\n",
       "      <td>-1.198558</td>\n",
       "      <td>-1.542523</td>\n",
       "      <td>-0.556513</td>\n",
       "      <td>-0.736717</td>\n",
       "      <td>-0.375082</td>\n",
       "      <td>1.205009</td>\n",
       "      <td>-0.632843</td>\n",
       "      <td>0</td>\n",
       "    </tr>\n",
       "    <tr>\n",
       "      <th>531</th>\n",
       "      <td>0.986790</td>\n",
       "      <td>-0.641171</td>\n",
       "      <td>0.236782</td>\n",
       "      <td>1.186951</td>\n",
       "      <td>-0.030616</td>\n",
       "      <td>-0.820633</td>\n",
       "      <td>-0.632843</td>\n",
       "      <td>0</td>\n",
       "    </tr>\n",
       "    <tr>\n",
       "      <th>532</th>\n",
       "      <td>1.080447</td>\n",
       "      <td>0.260181</td>\n",
       "      <td>0.633430</td>\n",
       "      <td>1.825820</td>\n",
       "      <td>0.916666</td>\n",
       "      <td>-1.106052</td>\n",
       "      <td>0.261984</td>\n",
       "      <td>0</td>\n",
       "    </tr>\n",
       "    <tr>\n",
       "      <th>533</th>\n",
       "      <td>2.017025</td>\n",
       "      <td>-1.542523</td>\n",
       "      <td>0.435106</td>\n",
       "      <td>1.657256</td>\n",
       "      <td>0.127265</td>\n",
       "      <td>0.811519</td>\n",
       "      <td>0.261984</td>\n",
       "      <td>1</td>\n",
       "    </tr>\n",
       "  </tbody>\n",
       "</table>\n",
       "<p>263 rows × 8 columns</p>\n",
       "</div>"
      ],
      "text/plain": [
       "      Glucose  BloodPressure  SkinThickness   Insulin       BMI  \\\n",
       "0    0.424843      -0.040270       0.335944 -0.197156  0.586553   \n",
       "1   -0.792708      -0.490945       0.732592 -0.336239  0.543494   \n",
       "3   -0.511735      -0.490945       0.633430 -0.082395 -0.360729   \n",
       "5    0.643378       1.011308      -0.556513  1.314781  1.347248   \n",
       "6    0.050212      -0.040270       0.435106  1.694015  0.342556   \n",
       "..        ...            ...            ...       ...       ...   \n",
       "526 -0.699050      -0.340720       0.038458  0.645768 -0.145438   \n",
       "527 -1.198558      -1.542523      -0.556513 -0.736717 -0.375082   \n",
       "531  0.986790      -0.641171       0.236782  1.186951 -0.030616   \n",
       "532  1.080447       0.260181       0.633430  1.825820  0.916666   \n",
       "533  2.017025      -1.542523       0.435106  1.657256  0.127265   \n",
       "\n",
       "     DiabetesPedigreeFunction       Age  Outcome  \n",
       "0                   -1.053402  1.156811        1  \n",
       "1                    0.185260 -0.632843        0  \n",
       "3                    2.402105  0.261984        0  \n",
       "5                    1.504283 -0.632843        0  \n",
       "6                   -0.695935  0.261984        0  \n",
       "..                        ...       ...      ...  \n",
       "526                 -0.247024  1.156811        0  \n",
       "527                  1.205009 -0.632843        0  \n",
       "531                 -0.820633 -0.632843        0  \n",
       "532                 -1.106052  0.261984        0  \n",
       "533                  0.811519  0.261984        1  \n",
       "\n",
       "[263 rows x 8 columns]"
      ]
     },
     "execution_count": 11,
     "metadata": {},
     "output_type": "execute_result"
    }
   ],
   "source": [
    "sc = StandardScaler()\n",
    "train.iloc[:, :-1] = sc.fit_transform(train.iloc[:, :-1])\n",
    "train"
   ]
  },
  {
   "attachments": {},
   "cell_type": "markdown",
   "metadata": {},
   "source": [
    "#### Split the training data frame into X and y "
   ]
  },
  {
   "cell_type": "code",
   "execution_count": 12,
   "metadata": {},
   "outputs": [],
   "source": [
    "X = train.iloc[:, :-1]\n",
    "y = train.iloc[:, -1]"
   ]
  },
  {
   "attachments": {},
   "cell_type": "markdown",
   "metadata": {},
   "source": [
    "#### Train an SVM Classifier, tune it's hyperparameters use GridsearchCV.    "
   ]
  },
  {
   "cell_type": "code",
   "execution_count": 13,
   "metadata": {},
   "outputs": [
    {
     "data": {
      "text/plain": [
       "0.7832699619771863"
      ]
     },
     "execution_count": 13,
     "metadata": {},
     "output_type": "execute_result"
    }
   ],
   "source": [
    "svm_parameters = {'kernel': ['rbf'],\n",
    "                  'C': [0.01, 0.1, 1 , 10, 100],\n",
    "                  'gamma': [0.01, 0.1, 1, 10, 100]\n",
    "                  }\n",
    "svm = SVC()\n",
    "svm_gs = GridSearchCV(estimator = svm, param_grid = svm_parameters)\n",
    "\n",
    "svm_gs.fit(X, y)\n",
    "y_pred = svm_gs.predict(X)\n",
    "\n",
    "svm_winner = svm_gs.best_estimator_\n",
    "train_accuracy = svm_winner.score(X, y)\n",
    "train_accuracy"
   ]
  },
  {
   "attachments": {},
   "cell_type": "markdown",
   "metadata": {},
   "source": [
    "#### Print the classification report for the best estimator.  "
   ]
  },
  {
   "cell_type": "code",
   "execution_count": 14,
   "metadata": {},
   "outputs": [
    {
     "name": "stdout",
     "output_type": "stream",
     "text": [
      "              precision    recall  f1-score   support\n",
      "\n",
      "           0       0.79      0.91      0.85       176\n",
      "           1       0.75      0.52      0.61        87\n",
      "\n",
      "    accuracy                           0.78       263\n",
      "   macro avg       0.77      0.72      0.73       263\n",
      "weighted avg       0.78      0.78      0.77       263\n",
      "\n"
     ]
    }
   ],
   "source": [
    "print(classification_report(y, y_pred))"
   ]
  },
  {
   "attachments": {},
   "cell_type": "markdown",
   "metadata": {},
   "source": [
    "#### Plot the confusion matrix.  "
   ]
  },
  {
   "cell_type": "code",
   "execution_count": 15,
   "metadata": {},
   "outputs": [
    {
     "name": "stdout",
     "output_type": "stream",
     "text": [
      "[[161  15]\n",
      " [ 42  45]]\n"
     ]
    }
   ],
   "source": [
    "print(confusion_matrix(y, y_pred))"
   ]
  },
  {
   "attachments": {},
   "cell_type": "markdown",
   "metadata": {},
   "source": [
    "#### [BONUS] Try other classifiers  \n",
    "try XGBoost, CatBoost, Light GBM, decision tree and plot the tree, try a library called Lazy Predict. Try some Auto ML Libraries like PyCaret.   "
   ]
  },
  {
   "cell_type": "code",
   "execution_count": null,
   "metadata": {},
   "outputs": [],
   "source": []
  },
  {
   "attachments": {},
   "cell_type": "markdown",
   "metadata": {},
   "source": [
    "#### Save the model as a pkl file.\n"
   ]
  },
  {
   "cell_type": "code",
   "execution_count": 16,
   "metadata": {},
   "outputs": [],
   "source": [
    "import pickle\n",
    "pickle.dump(svm_gs, open('model.pkl', 'wb'))"
   ]
  },
  {
   "attachments": {},
   "cell_type": "markdown",
   "metadata": {},
   "source": [
    "#### [BONUS] SkLearn Pipelines  \n",
    "If you are able to make this into a single sklearn pipeline (ColumnTransformer-> Onehotencoder -> StandardScaler-> SVM) pkl file, I will give you full mark + bonus + 10 pounds. to get the bonus I need your production code to look like this: `model = pkl.load(model) - model.predict(test set)` all in a single sklearn pipeline, no pandas no nothing.  "
   ]
  },
  {
   "cell_type": "code",
   "execution_count": null,
   "metadata": {},
   "outputs": [],
   "source": []
  },
  {
   "attachments": {},
   "cell_type": "markdown",
   "metadata": {},
   "source": [
    "# The Production Phase !    "
   ]
  },
  {
   "attachments": {},
   "cell_type": "markdown",
   "metadata": {},
   "source": [
    "#### Load the test set, do your transformations as you did with the training set. "
   ]
  },
  {
   "cell_type": "code",
   "execution_count": 17,
   "metadata": {},
   "outputs": [],
   "source": [
    "test = pd.read_csv('./test.csv')\n",
    "\n",
    "test.drop(columns=[\"Pregnancies\"], inplace=True, axis=1)"
   ]
  },
  {
   "cell_type": "code",
   "execution_count": 18,
   "metadata": {},
   "outputs": [
    {
     "name": "stderr",
     "output_type": "stream",
     "text": [
      "c:\\Users\\eslam\\AppData\\Local\\Programs\\Python\\Python311\\Lib\\site-packages\\pandas\\core\\arraylike.py:402: RuntimeWarning: divide by zero encountered in log\n",
      "  result = getattr(ufunc, method)(*inputs, **kwargs)\n"
     ]
    }
   ],
   "source": [
    "test['Insulin'] = np.log(test['Insulin'])\n",
    "test.dropna(subset=['Insulin'], inplace=True)"
   ]
  },
  {
   "cell_type": "code",
   "execution_count": 19,
   "metadata": {},
   "outputs": [
    {
     "data": {
      "text/html": [
       "<div>\n",
       "<style scoped>\n",
       "    .dataframe tbody tr th:only-of-type {\n",
       "        vertical-align: middle;\n",
       "    }\n",
       "\n",
       "    .dataframe tbody tr th {\n",
       "        vertical-align: top;\n",
       "    }\n",
       "\n",
       "    .dataframe thead th {\n",
       "        text-align: right;\n",
       "    }\n",
       "</style>\n",
       "<table border=\"1\" class=\"dataframe\">\n",
       "  <thead>\n",
       "    <tr style=\"text-align: right;\">\n",
       "      <th></th>\n",
       "      <th>Glucose</th>\n",
       "      <th>BloodPressure</th>\n",
       "      <th>SkinThickness</th>\n",
       "      <th>Insulin</th>\n",
       "      <th>BMI</th>\n",
       "      <th>DiabetesPedigreeFunction</th>\n",
       "      <th>Age</th>\n",
       "      <th>Outcome</th>\n",
       "    </tr>\n",
       "  </thead>\n",
       "  <tbody>\n",
       "    <tr>\n",
       "      <th>0</th>\n",
       "      <td>136</td>\n",
       "      <td>74</td>\n",
       "      <td>26</td>\n",
       "      <td>4.905275</td>\n",
       "      <td>26.0</td>\n",
       "      <td>0.647</td>\n",
       "      <td>2.0</td>\n",
       "      <td>0</td>\n",
       "    </tr>\n",
       "    <tr>\n",
       "      <th>4</th>\n",
       "      <td>116</td>\n",
       "      <td>78</td>\n",
       "      <td>29</td>\n",
       "      <td>5.192957</td>\n",
       "      <td>36.1</td>\n",
       "      <td>0.496</td>\n",
       "      <td>0.0</td>\n",
       "      <td>0</td>\n",
       "    </tr>\n",
       "    <tr>\n",
       "      <th>7</th>\n",
       "      <td>119</td>\n",
       "      <td>54</td>\n",
       "      <td>13</td>\n",
       "      <td>3.912023</td>\n",
       "      <td>22.3</td>\n",
       "      <td>0.205</td>\n",
       "      <td>0.0</td>\n",
       "      <td>0</td>\n",
       "    </tr>\n",
       "    <tr>\n",
       "      <th>9</th>\n",
       "      <td>105</td>\n",
       "      <td>64</td>\n",
       "      <td>41</td>\n",
       "      <td>4.955827</td>\n",
       "      <td>41.5</td>\n",
       "      <td>0.173</td>\n",
       "      <td>0.0</td>\n",
       "      <td>0</td>\n",
       "    </tr>\n",
       "    <tr>\n",
       "      <th>11</th>\n",
       "      <td>95</td>\n",
       "      <td>74</td>\n",
       "      <td>21</td>\n",
       "      <td>4.290459</td>\n",
       "      <td>25.9</td>\n",
       "      <td>0.673</td>\n",
       "      <td>1.0</td>\n",
       "      <td>0</td>\n",
       "    </tr>\n",
       "    <tr>\n",
       "      <th>...</th>\n",
       "      <td>...</td>\n",
       "      <td>...</td>\n",
       "      <td>...</td>\n",
       "      <td>...</td>\n",
       "      <td>...</td>\n",
       "      <td>...</td>\n",
       "      <td>...</td>\n",
       "      <td>...</td>\n",
       "    </tr>\n",
       "    <tr>\n",
       "      <th>225</th>\n",
       "      <td>129</td>\n",
       "      <td>74</td>\n",
       "      <td>26</td>\n",
       "      <td>5.323010</td>\n",
       "      <td>33.2</td>\n",
       "      <td>0.591</td>\n",
       "      <td>0.0</td>\n",
       "      <td>0</td>\n",
       "    </tr>\n",
       "    <tr>\n",
       "      <th>226</th>\n",
       "      <td>91</td>\n",
       "      <td>70</td>\n",
       "      <td>32</td>\n",
       "      <td>4.477337</td>\n",
       "      <td>33.1</td>\n",
       "      <td>0.446</td>\n",
       "      <td>0.0</td>\n",
       "      <td>0</td>\n",
       "    </tr>\n",
       "    <tr>\n",
       "      <th>227</th>\n",
       "      <td>109</td>\n",
       "      <td>38</td>\n",
       "      <td>18</td>\n",
       "      <td>4.787492</td>\n",
       "      <td>23.1</td>\n",
       "      <td>0.407</td>\n",
       "      <td>0.0</td>\n",
       "      <td>0</td>\n",
       "    </tr>\n",
       "    <tr>\n",
       "      <th>228</th>\n",
       "      <td>91</td>\n",
       "      <td>54</td>\n",
       "      <td>25</td>\n",
       "      <td>4.605170</td>\n",
       "      <td>25.2</td>\n",
       "      <td>0.234</td>\n",
       "      <td>0.0</td>\n",
       "      <td>0</td>\n",
       "    </tr>\n",
       "    <tr>\n",
       "      <th>230</th>\n",
       "      <td>112</td>\n",
       "      <td>82</td>\n",
       "      <td>32</td>\n",
       "      <td>5.164786</td>\n",
       "      <td>34.2</td>\n",
       "      <td>0.260</td>\n",
       "      <td>1.0</td>\n",
       "      <td>1</td>\n",
       "    </tr>\n",
       "  </tbody>\n",
       "</table>\n",
       "<p>131 rows × 8 columns</p>\n",
       "</div>"
      ],
      "text/plain": [
       "     Glucose  BloodPressure  SkinThickness   Insulin   BMI  \\\n",
       "0        136             74             26  4.905275  26.0   \n",
       "4        116             78             29  5.192957  36.1   \n",
       "7        119             54             13  3.912023  22.3   \n",
       "9        105             64             41  4.955827  41.5   \n",
       "11        95             74             21  4.290459  25.9   \n",
       "..       ...            ...            ...       ...   ...   \n",
       "225      129             74             26  5.323010  33.2   \n",
       "226       91             70             32  4.477337  33.1   \n",
       "227      109             38             18  4.787492  23.1   \n",
       "228       91             54             25  4.605170  25.2   \n",
       "230      112             82             32  5.164786  34.2   \n",
       "\n",
       "     DiabetesPedigreeFunction  Age  Outcome  \n",
       "0                       0.647  2.0        0  \n",
       "4                       0.496  0.0        0  \n",
       "7                       0.205  0.0        0  \n",
       "9                       0.173  0.0        0  \n",
       "11                      0.673  1.0        0  \n",
       "..                        ...  ...      ...  \n",
       "225                     0.591  0.0        0  \n",
       "226                     0.446  0.0        0  \n",
       "227                     0.407  0.0        0  \n",
       "228                     0.234  0.0        0  \n",
       "230                     0.260  1.0        1  \n",
       "\n",
       "[131 rows x 8 columns]"
      ]
     },
     "execution_count": 19,
     "metadata": {},
     "output_type": "execute_result"
    }
   ],
   "source": [
    "KBin = KBinsDiscretizer(n_bins=5, encode='ordinal', strategy='uniform')\n",
    "age_scaled = KBin.fit_transform(test['Age'].values.reshape(-1, 1)) \n",
    "test['Age'] = age_scaled\n",
    "\n",
    "test"
   ]
  },
  {
   "cell_type": "code",
   "execution_count": 20,
   "metadata": {},
   "outputs": [
    {
     "data": {
      "text/html": [
       "<div>\n",
       "<style scoped>\n",
       "    .dataframe tbody tr th:only-of-type {\n",
       "        vertical-align: middle;\n",
       "    }\n",
       "\n",
       "    .dataframe tbody tr th {\n",
       "        vertical-align: top;\n",
       "    }\n",
       "\n",
       "    .dataframe thead th {\n",
       "        text-align: right;\n",
       "    }\n",
       "</style>\n",
       "<table border=\"1\" class=\"dataframe\">\n",
       "  <thead>\n",
       "    <tr style=\"text-align: right;\">\n",
       "      <th></th>\n",
       "      <th>Glucose</th>\n",
       "      <th>BloodPressure</th>\n",
       "      <th>SkinThickness</th>\n",
       "      <th>Insulin</th>\n",
       "      <th>BMI</th>\n",
       "      <th>DiabetesPedigreeFunction</th>\n",
       "      <th>Age</th>\n",
       "      <th>Outcome</th>\n",
       "    </tr>\n",
       "  </thead>\n",
       "  <tbody>\n",
       "    <tr>\n",
       "      <th>0</th>\n",
       "      <td>0.463023</td>\n",
       "      <td>0.295466</td>\n",
       "      <td>-0.366103</td>\n",
       "      <td>0.211945</td>\n",
       "      <td>-0.907238</td>\n",
       "      <td>0.419995</td>\n",
       "      <td>1.708318</td>\n",
       "      <td>0</td>\n",
       "    </tr>\n",
       "    <tr>\n",
       "      <th>4</th>\n",
       "      <td>-0.204627</td>\n",
       "      <td>0.675869</td>\n",
       "      <td>-0.098173</td>\n",
       "      <td>0.611654</td>\n",
       "      <td>0.413297</td>\n",
       "      <td>-0.043876</td>\n",
       "      <td>-0.647363</td>\n",
       "      <td>0</td>\n",
       "    </tr>\n",
       "    <tr>\n",
       "      <th>7</th>\n",
       "      <td>-0.104480</td>\n",
       "      <td>-1.606549</td>\n",
       "      <td>-1.527133</td>\n",
       "      <td>-1.168089</td>\n",
       "      <td>-1.390998</td>\n",
       "      <td>-0.937824</td>\n",
       "      <td>-0.647363</td>\n",
       "      <td>0</td>\n",
       "    </tr>\n",
       "    <tr>\n",
       "      <th>9</th>\n",
       "      <td>-0.571835</td>\n",
       "      <td>-0.655542</td>\n",
       "      <td>0.973547</td>\n",
       "      <td>0.282183</td>\n",
       "      <td>1.119326</td>\n",
       "      <td>-1.036128</td>\n",
       "      <td>-0.647363</td>\n",
       "      <td>0</td>\n",
       "    </tr>\n",
       "    <tr>\n",
       "      <th>11</th>\n",
       "      <td>-0.905660</td>\n",
       "      <td>0.295466</td>\n",
       "      <td>-0.812653</td>\n",
       "      <td>-0.642285</td>\n",
       "      <td>-0.920312</td>\n",
       "      <td>0.499867</td>\n",
       "      <td>0.530478</td>\n",
       "      <td>0</td>\n",
       "    </tr>\n",
       "    <tr>\n",
       "      <th>...</th>\n",
       "      <td>...</td>\n",
       "      <td>...</td>\n",
       "      <td>...</td>\n",
       "      <td>...</td>\n",
       "      <td>...</td>\n",
       "      <td>...</td>\n",
       "      <td>...</td>\n",
       "      <td>...</td>\n",
       "    </tr>\n",
       "    <tr>\n",
       "      <th>225</th>\n",
       "      <td>0.229346</td>\n",
       "      <td>0.295466</td>\n",
       "      <td>-0.366103</td>\n",
       "      <td>0.792351</td>\n",
       "      <td>0.034134</td>\n",
       "      <td>0.247963</td>\n",
       "      <td>-0.647363</td>\n",
       "      <td>0</td>\n",
       "    </tr>\n",
       "    <tr>\n",
       "      <th>226</th>\n",
       "      <td>-1.039190</td>\n",
       "      <td>-0.084937</td>\n",
       "      <td>0.169757</td>\n",
       "      <td>-0.382636</td>\n",
       "      <td>0.021059</td>\n",
       "      <td>-0.197475</td>\n",
       "      <td>-0.647363</td>\n",
       "      <td>0</td>\n",
       "    </tr>\n",
       "    <tr>\n",
       "      <th>227</th>\n",
       "      <td>-0.438305</td>\n",
       "      <td>-3.128161</td>\n",
       "      <td>-1.080583</td>\n",
       "      <td>0.048297</td>\n",
       "      <td>-1.286401</td>\n",
       "      <td>-0.317283</td>\n",
       "      <td>-0.647363</td>\n",
       "      <td>0</td>\n",
       "    </tr>\n",
       "    <tr>\n",
       "      <th>228</th>\n",
       "      <td>-1.039190</td>\n",
       "      <td>-1.606549</td>\n",
       "      <td>-0.455413</td>\n",
       "      <td>-0.205023</td>\n",
       "      <td>-1.011835</td>\n",
       "      <td>-0.848737</td>\n",
       "      <td>-0.647363</td>\n",
       "      <td>0</td>\n",
       "    </tr>\n",
       "    <tr>\n",
       "      <th>230</th>\n",
       "      <td>-0.338157</td>\n",
       "      <td>1.056271</td>\n",
       "      <td>0.169757</td>\n",
       "      <td>0.572513</td>\n",
       "      <td>0.164880</td>\n",
       "      <td>-0.768865</td>\n",
       "      <td>0.530478</td>\n",
       "      <td>1</td>\n",
       "    </tr>\n",
       "  </tbody>\n",
       "</table>\n",
       "<p>131 rows × 8 columns</p>\n",
       "</div>"
      ],
      "text/plain": [
       "      Glucose  BloodPressure  SkinThickness   Insulin       BMI  \\\n",
       "0    0.463023       0.295466      -0.366103  0.211945 -0.907238   \n",
       "4   -0.204627       0.675869      -0.098173  0.611654  0.413297   \n",
       "7   -0.104480      -1.606549      -1.527133 -1.168089 -1.390998   \n",
       "9   -0.571835      -0.655542       0.973547  0.282183  1.119326   \n",
       "11  -0.905660       0.295466      -0.812653 -0.642285 -0.920312   \n",
       "..        ...            ...            ...       ...       ...   \n",
       "225  0.229346       0.295466      -0.366103  0.792351  0.034134   \n",
       "226 -1.039190      -0.084937       0.169757 -0.382636  0.021059   \n",
       "227 -0.438305      -3.128161      -1.080583  0.048297 -1.286401   \n",
       "228 -1.039190      -1.606549      -0.455413 -0.205023 -1.011835   \n",
       "230 -0.338157       1.056271       0.169757  0.572513  0.164880   \n",
       "\n",
       "     DiabetesPedigreeFunction       Age  Outcome  \n",
       "0                    0.419995  1.708318        0  \n",
       "4                   -0.043876 -0.647363        0  \n",
       "7                   -0.937824 -0.647363        0  \n",
       "9                   -1.036128 -0.647363        0  \n",
       "11                   0.499867  0.530478        0  \n",
       "..                        ...       ...      ...  \n",
       "225                  0.247963 -0.647363        0  \n",
       "226                 -0.197475 -0.647363        0  \n",
       "227                 -0.317283 -0.647363        0  \n",
       "228                 -0.848737 -0.647363        0  \n",
       "230                 -0.768865  0.530478        1  \n",
       "\n",
       "[131 rows x 8 columns]"
      ]
     },
     "execution_count": 20,
     "metadata": {},
     "output_type": "execute_result"
    }
   ],
   "source": [
    "sc = StandardScaler()\n",
    "test.iloc[:, :-1] = sc.fit_transform(test.iloc[:, :-1])\n",
    "\n",
    "test"
   ]
  },
  {
   "attachments": {},
   "cell_type": "markdown",
   "metadata": {},
   "source": [
    "#### Load the model from the pkl file, use it to predict on the test set."
   ]
  },
  {
   "cell_type": "code",
   "execution_count": 21,
   "metadata": {},
   "outputs": [
    {
     "data": {
      "text/plain": [
       "0.8015267175572519"
      ]
     },
     "execution_count": 21,
     "metadata": {},
     "output_type": "execute_result"
    }
   ],
   "source": [
    "pickled_model = pickle.load(open('model.pkl', 'rb'))\n",
    "X = test.iloc[:, :-1]\n",
    "y = test.iloc[:, -1]\n",
    "\n",
    "y_pred = pickled_model.predict(X)\n",
    "\n",
    "pickled_winner = pickled_model.best_estimator_\n",
    "test_accuracy = pickled_winner.score(X, y)\n",
    "test_accuracy"
   ]
  },
  {
   "attachments": {},
   "cell_type": "markdown",
   "metadata": {},
   "source": [
    "#### Print the classification report.  \n",
    "reflect on the results in terms of F1 score, precision and recall. Is the model overfitting, underfitting and why?"
   ]
  },
  {
   "cell_type": "code",
   "execution_count": 22,
   "metadata": {},
   "outputs": [
    {
     "name": "stdout",
     "output_type": "stream",
     "text": [
      "              precision    recall  f1-score   support\n",
      "\n",
      "           0       0.80      0.93      0.86        88\n",
      "           1       0.79      0.53      0.64        43\n",
      "\n",
      "    accuracy                           0.80       131\n",
      "   macro avg       0.80      0.73      0.75       131\n",
      "weighted avg       0.80      0.80      0.79       131\n",
      "\n"
     ]
    }
   ],
   "source": [
    "print(classification_report(y, y_pred))"
   ]
  },
  {
   "attachments": {},
   "cell_type": "markdown",
   "metadata": {},
   "source": [
    "#### Plot the confusion matrix, reflect on the results"
   ]
  },
  {
   "cell_type": "code",
   "execution_count": 23,
   "metadata": {},
   "outputs": [
    {
     "name": "stdout",
     "output_type": "stream",
     "text": [
      "[[82  6]\n",
      " [20 23]]\n"
     ]
    }
   ],
   "source": [
    "print(confusion_matrix(y, y_pred))"
   ]
  },
  {
   "attachments": {},
   "cell_type": "markdown",
   "metadata": {},
   "source": [
    "#### Compare the training accuracy vs test accuracy.\n",
    "reflect on the results, is your model underfitting or overfitting? and why?.  \n",
    "Draw a bar plot comparing the two.  "
   ]
  },
  {
   "cell_type": "code",
   "execution_count": 27,
   "metadata": {},
   "outputs": [
    {
     "data": {
      "image/png": "[encoded data removed]",
      "text/plain": [
       "<Figure size 640x480 with 1 Axes>"
      ]
     },
     "metadata": {},
     "output_type": "display_data"
    }
   ],
   "source": [
    "labels = ['Train Set', 'Test Set']\n",
    "accuracy_scores = [train_accuracy, test_accuracy]\n",
    "\n",
    "plt.bar(labels, accuracy_scores)\n",
    "plt.xlabel('Data Set')\n",
    "plt.ylabel('Accuracy')\n",
    "plt.title('Accuracy Comparison: Train Set vs. Test Set')\n",
    "\n",
    "plt.show()"
   ]
  },
  {
   "attachments": {},
   "cell_type": "markdown",
   "metadata": {},
   "source": [
    "#### [BONUS] Can you plot the decision boundaries for 2 features?  \n",
    "Hint: steal some code form the internet, google: python plot decision boundary or ask chatGPT"
   ]
  },
  {
   "cell_type": "code",
   "execution_count": null,
   "metadata": {},
   "outputs": [],
   "source": []
  },
  {
   "attachments": {},
   "cell_type": "markdown",
   "metadata": {},
   "source": [
    "#### [BONUS++++] Deployment  \n",
    "Can you deploy this? use your .edu email to create a free azure for students account. think of fast API, Flask with Azure web service or just python function with Azure Functions (like AWS Lambda) call your API using Postman.  "
   ]
  },
  {
   "cell_type": "code",
   "execution_count": null,
   "metadata": {},
   "outputs": [],
   "source": []
  },
  {
   "attachments": {},
   "cell_type": "markdown",
   "metadata": {},
   "source": [
    "# The End\n",
    "Congratulations, you made it this far, upload the project to github, add it to your CV."
   ]
  }
 ],
 "metadata": {
  "kernelspec": {
   "display_name": "Python 3",
   "language": "python",
   "name": "python3"
  },
  "language_info": {
   "codemirror_mode": {
    "name": "ipython",
    "version": 3
   },
   "file_extension": ".py",
   "mimetype": "text/x-python",
   "name": "python",
   "nbconvert_exporter": "python",
   "pygments_lexer": "ipython3",
   "version": "3.11.0"
  },
  "orig_nbformat": 4
 },
 "nbformat": 4,
 "nbformat_minor": 2
}
